{
 "cells": [
  {
   "cell_type": "markdown",
   "metadata": {},
   "source": [
    "# Parameterized notebook\n",
    "\n",
    "This page describes how to declare and use variables inside ssh kernel notebooks.<br><br><br>"
   ]
  },
  {
   "cell_type": "markdown",
   "metadata": {},
   "source": [
    "## Declare variables with `%param` magic\n",
    "\n",
    "`%param <variable> <value>` magic declare a new variable.\n",
    "\n",
    "* Note:\n",
    "    * Allowed characters in `variable`: A-Z a-z 0-9 _\n",
    "    * Allowed characters in `value`: A-Z a-z 0-9 - % , . / : = _ @ SPACE"
   ]
  },
  {
   "cell_type": "markdown",
   "metadata": {},
   "source": [
    "### Example"
   ]
  },
  {
   "cell_type": "code",
   "execution_count": 1,
   "metadata": {},
   "outputs": [],
   "source": [
    "%param HOST_A 127.0.0.1\n",
    "%param HOST_B test.example.com"
   ]
  },
  {
   "cell_type": "markdown",
   "metadata": {},
   "source": [
    "==> Declared two variables `HOST_A`, `HOST_B` . You can use these variables as follows.\n",
    "\n",
    "<br><br><br>"
   ]
  },
  {
   "cell_type": "markdown",
   "metadata": {},
   "source": [
    "## Refer variables in `%login` magic\n",
    "\n",
    "Variables declared above are interpolated with `{name}` syntax in `%login` magic."
   ]
  },
  {
   "cell_type": "markdown",
   "metadata": {},
   "source": [
    "### Example"
   ]
  },
  {
   "cell_type": "code",
   "execution_count": 2,
   "metadata": {},
   "outputs": [
    {
     "name": "stdout",
     "output_type": "stream",
     "text": [
      "[ssh] Login to {HOST_A}...\n",
      "[ssh] host=127.0.0.1 hostname=127.0.0.1 other_conf={}\n",
      "[ssh] Successfully logged in.\n"
     ]
    }
   ],
   "source": [
    "%login {HOST_A}"
   ]
  },
  {
   "cell_type": "markdown",
   "metadata": {},
   "source": [
    "==> `{HOST_A}` is replaced to `127.0.0.1`"
   ]
  },
  {
   "cell_type": "code",
   "execution_count": 3,
   "metadata": {},
   "outputs": [
    {
     "name": "stdout",
     "output_type": "stream",
     "text": [
      "[ssh] host = 127.0.0.1, cwd = /home/masaru\n",
      "Hey, this is HOST_A\n",
      "\n"
     ]
    }
   ],
   "source": [
    "echo Hey, this is HOST_A"
   ]
  },
  {
   "cell_type": "code",
   "execution_count": 4,
   "metadata": {},
   "outputs": [
    {
     "name": "stdout",
     "output_type": "stream",
     "text": [
      "[ssh] Successfully logged out.\n"
     ]
    }
   ],
   "source": [
    "%logout"
   ]
  },
  {
   "cell_type": "markdown",
   "metadata": {},
   "source": [
    "<br><br><br>"
   ]
  },
  {
   "cell_type": "markdown",
   "metadata": {},
   "source": [
    "## Refer variable as remote environment variables\n",
    "\n",
    "Variables declared above are read by environment variables.\n",
    "\n",
    "* Note:\n",
    "    * Declared variables are injected as default environment variables at login.\n",
    "        * You can re-assign environment variables in remote context (i.e. execute `export HOST_B=xxx` or `HOST_B=xxx`)\n",
    "        * However, the new value does not propagate to the \"local\" or other context.\n",
    "        * That is, you cannot share environment variables between remote hosts."
   ]
  },
  {
   "cell_type": "markdown",
   "metadata": {},
   "source": [
    "### Example"
   ]
  },
  {
   "cell_type": "code",
   "execution_count": 5,
   "metadata": {},
   "outputs": [
    {
     "name": "stdout",
     "output_type": "stream",
     "text": [
      "[ssh] Closing existing connection.\n",
      "[ssh] Login to {HOST_B}...\n",
      "[ssh] host=test.example.com hostname=localhost other_conf={'port': 22}\n",
      "[ssh] Successfully logged in.\n"
     ]
    }
   ],
   "source": [
    "%login {HOST_B}"
   ]
  },
  {
   "cell_type": "code",
   "execution_count": 6,
   "metadata": {},
   "outputs": [
    {
     "name": "stdout",
     "output_type": "stream",
     "text": [
      "[ssh] host = test.example.com, cwd = /home/masaru\n",
      "\u001b[01;31m\u001b[KHOST_A\u001b[m\u001b[K=127.0.0.1\n",
      "\u001b[01;31m\u001b[KHOST_B\u001b[m\u001b[K=test.example.com\n",
      "\n"
     ]
    }
   ],
   "source": [
    "printenv |sort | grep --color=always \"HOST_.\""
   ]
  },
  {
   "cell_type": "code",
   "execution_count": 7,
   "metadata": {},
   "outputs": [
    {
     "name": "stdout",
     "output_type": "stream",
     "text": [
      "[ssh] host = test.example.com, cwd = /home/masaru\n",
      "HOST_A is 127.0.0.1\n",
      "HOST_B is test.example.com\n",
      "\n"
     ]
    }
   ],
   "source": [
    "echo HOST_A is $HOST_A\n",
    "echo HOST_B is $HOST_B"
   ]
  },
  {
   "cell_type": "code",
   "execution_count": 8,
   "metadata": {},
   "outputs": [
    {
     "name": "stdout",
     "output_type": "stream",
     "text": [
      "[ssh] Successfully logged out.\n"
     ]
    }
   ],
   "source": [
    "%logout"
   ]
  }
 ],
 "metadata": {
  "kernelspec": {
   "display_name": "SSH",
   "language": "bash",
   "name": "ssh"
  },
  "language_info": {
   "codemirror_mode": "shell",
   "file_extension": ".sh",
   "mimetype": "text/x-sh",
   "name": "ssh"
  },
  "toc": {
   "base_numbering": 1,
   "nav_menu": {},
   "number_sections": true,
   "sideBar": true,
   "skip_h1_title": false,
   "title_cell": "Table of Contents",
   "title_sidebar": "Contents",
   "toc_cell": false,
   "toc_position": {},
   "toc_section_display": true,
   "toc_window_display": false
  }
 },
 "nbformat": 4,
 "nbformat_minor": 2
}
