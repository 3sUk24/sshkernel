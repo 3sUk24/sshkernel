{
 "cells": [
  {
   "cell_type": "markdown",
   "metadata": {},
   "source": [
    "# Getting Started"
   ]
  },
  {
   "cell_type": "markdown",
   "metadata": {},
   "source": [
    "## Before you begin\n",
    "\n",
    "Confirm you can connect to the target server via ssh without host verification not password prompt.\n",
    "\n",
    "Example:\n",
    "\n",
    "```\n",
    "$ ssh <host> whoami\n",
    "root    # without any prompt\n",
    "```"
   ]
  },
  {
   "cell_type": "markdown",
   "metadata": {
    "ExecuteTime": {
     "end_time": "2019-02-08T02:46:45.752155Z",
     "start_time": "2019-02-08T02:46:45.742587Z"
    }
   },
   "source": [
    "### OpenSSH configuration\n",
    "\n",
    "SSH Kernel read OpenSSH configuration from `~/.ssh/config` file to connect servers.\n",
    "\n",
    "Possible keywords are as follows:\n",
    "\n",
    "* HostName\n",
    "* User\n",
    "* Port\n",
    "* IdentityFile\n",
    "  * If you use a ed25519 key, please generate with or convert into old PEM format  \n",
    "    * e.g. `ssh-keygen -m PEM -t ed25519 ...`"
   ]
  },
  {
   "cell_type": "code",
   "execution_count": 1,
   "metadata": {
    "ExecuteTime": {
     "end_time": "2019-02-08T03:12:21.144013Z",
     "start_time": "2019-02-08T03:12:20.972637Z"
    }
   },
   "outputs": [
    {
     "name": "stdout",
     "output_type": "stream",
     "text": [
      "Host test\n",
      "  Hostname localhost\n",
      "  User root\n",
      "  Port 10022\n",
      "  IdentityFile /tmp/id_rsa_test\n",
      "\n"
     ]
    }
   ],
   "source": [
    "! head -n6 ~/.ssh/config"
   ]
  },
  {
   "cell_type": "markdown",
   "metadata": {},
   "source": [
    "### Host key"
   ]
  },
  {
   "cell_type": "markdown",
   "metadata": {},
   "source": [
    "SSH Kernel read a file of known SSH host keys, in the format used by OpenSSH."
   ]
  },
  {
   "cell_type": "code",
   "execution_count": 2,
   "metadata": {
    "ExecuteTime": {
     "end_time": "2019-02-08T03:12:21.318479Z",
     "start_time": "2019-02-08T03:12:21.152347Z"
    }
   },
   "outputs": [
    {
     "name": "stdout",
     "output_type": "stream",
     "text": [
      "\u001b[01;31m\u001b[Klocalhost\u001b[m\u001b[K,::1 ssh-rsa AAAAB3NzaC1yc2EAAAADAQABAAABAQDvUcAPq8CMwZJt3f5In+zzoEo2MiT+t8xO8y61VscBhrOq1iX9okHmlrMzcHYrNQV6FYllQ7beRKN3pSgXow4wXK67MFMvMyMink8KcagyjpDNrvnM2eO0dWA+cd2PbGLZDn4L5xUDRs0jbhpuDaPADuyhHzQ9l3IqVxPZFCes2UdaBzouzqYNrWvAUiPkbDFE6q0eRLO6A+5/ecgOd01Ybh+SnK3aGqLUcC0KPdKGfvyWRZW3ga5FFz0MM5oP6OrCZ78QpeNDCMeHWGdG2kBD+HeXE8r0Ge1LS2L0tOMoV17cyQuc0rAwQJzQ9oQPx/k3sAULloIgDVLFLTuH2oLn\n"
     ]
    }
   ],
   "source": [
    "! grep localhost ~/.ssh/known_hosts"
   ]
  },
  {
   "cell_type": "markdown",
   "metadata": {},
   "source": [
    "## Execute remote commands in Notebook\n",
    "\n",
    "* Directives\n",
    "    * `%login <host>` to connect and start SSH session\n",
    "    * `%logout` to exit session\n",
    "* Commands between `%login` and `%logout` are executed remotely"
   ]
  },
  {
   "cell_type": "code",
   "execution_count": 3,
   "metadata": {
    "ExecuteTime": {
     "end_time": "2019-02-08T03:12:21.553772Z",
     "start_time": "2019-02-08T03:12:21.323346Z"
    }
   },
   "outputs": [
    {
     "name": "stdout",
     "output_type": "stream",
     "text": [
      "[ssh] Login to test...\n",
      "[ssh] host=test hostname=localhost other_conf={'keyfile': ['/tmp/id_rsa_test'], 'port': 10022, 'user': 'root'}\n",
      "[ssh] Successfully logged in.\n"
     ]
    }
   ],
   "source": [
    "%login test"
   ]
  },
  {
   "cell_type": "code",
   "execution_count": 4,
   "metadata": {
    "ExecuteTime": {
     "end_time": "2019-02-08T03:12:21.641678Z",
     "start_time": "2019-02-08T03:12:21.563441Z"
    }
   },
   "outputs": [
    {
     "name": "stdout",
     "output_type": "stream",
     "text": [
      "[ssh] host = test, cwd = /root\n",
      "/root\n",
      "\n"
     ]
    }
   ],
   "source": [
    "pwd"
   ]
  },
  {
   "cell_type": "code",
   "execution_count": 5,
   "metadata": {
    "ExecuteTime": {
     "end_time": "2019-02-08T03:12:21.729051Z",
     "start_time": "2019-02-08T03:12:21.647212Z"
    }
   },
   "outputs": [
    {
     "name": "stdout",
     "output_type": "stream",
     "text": [
      "[ssh] host = test, cwd = /root\n",
      "\n",
      "[ssh] new cwd: /\n"
     ]
    }
   ],
   "source": [
    "cd /"
   ]
  },
  {
   "cell_type": "code",
   "execution_count": 6,
   "metadata": {
    "ExecuteTime": {
     "end_time": "2019-02-08T03:12:21.811839Z",
     "start_time": "2019-02-08T03:12:21.735080Z"
    }
   },
   "outputs": [
    {
     "name": "stdout",
     "output_type": "stream",
     "text": [
      "[ssh] host = test, cwd = /\n",
      "total 72K\n",
      "drwxr-xr-x   2 root root 4.0K Apr 24  2018 home\n",
      "drwxr-xr-x   2 root root 4.0K Apr 24  2018 boot\n",
      "drwxr-xr-x   2 root root 4.0K Apr 26  2018 srv\n",
      "drwxr-xr-x   2 root root 4.0K Apr 26  2018 opt\n",
      "drwxr-xr-x   2 root root 4.0K Apr 26  2018 mnt\n",
      "drwxr-xr-x   2 root root 4.0K Apr 26  2018 media\n",
      "drwxr-xr-x   2 root root 4.0K Apr 26  2018 lib64\n",
      "drwxr-xr-x  16 root root 4.0K May 20  2018 usr\n",
      "drwxr-xr-x  13 root root 4.0K May 20  2018 lib\n",
      "drwxr-xr-x   2 root root 4.0K May 20  2018 bin\n",
      "drwxr-xr-x   2 root root 4.0K May 20  2018 sbin\n",
      "drwxrwxrwt   2 root root 4.0K May 20  2018 tmp\n",
      "dr-xr-xr-x  13 root root    0 Nov 28 10:21 sys\n",
      "drwxr-xr-x  60 root root 4.0K Dec  6 00:58 etc\n",
      "-rwxr-xr-x   1 root root    0 Dec  6 00:58 .dockerenv\n",
      "dr-xr-xr-x 346 root root    0 Dec  6 00:58 proc\n",
      "drwxr-xr-x   5 root root  340 Dec  6 00:58 dev\n",
      "drwxr-xr-x  20 root root 4.0K Dec  6 00:59 var\n",
      "drwxr-xr-x   7 root root 4.0K Dec  6 00:59 run\n",
      "drwxr-xr-x  53 root root 4.0K Dec  6 01:00 ..\n",
      "drwxr-xr-x  53 root root 4.0K Dec  6 01:00 .\n",
      "drwx------   4 root root 4.0K Jan 22 05:25 root\n",
      "\n"
     ]
    }
   ],
   "source": [
    "ls -lahrt"
   ]
  },
  {
   "cell_type": "code",
   "execution_count": 7,
   "metadata": {
    "ExecuteTime": {
     "end_time": "2019-02-08T03:12:21.887107Z",
     "start_time": "2019-02-08T03:12:21.818482Z"
    }
   },
   "outputs": [
    {
     "name": "stdout",
     "output_type": "stream",
     "text": [
      "[ssh] host = test, cwd = /\n",
      "41b562ffa1b3\n",
      "\n"
     ]
    }
   ],
   "source": [
    "hostname"
   ]
  },
  {
   "cell_type": "code",
   "execution_count": 8,
   "metadata": {
    "ExecuteTime": {
     "end_time": "2019-02-08T03:12:21.967949Z",
     "start_time": "2019-02-08T03:12:21.890119Z"
    }
   },
   "outputs": [
    {
     "name": "stdout",
     "output_type": "stream",
     "text": [
      "[ssh] host = test, cwd = /\n",
      "USER       PID %CPU %MEM    VSZ   RSS TTY      STAT START   TIME COMMAND\n",
      "root         1  0.0  0.0  72296  6284 ?        Ss    2018   0:00 /usr/sbin/sshd -D\n",
      "root      3047  0.0  0.0  74656  6620 ?        Ss   03:12   0:00 sshd: root@notty\n",
      "root      3049  0.0  0.0  18376  3088 ?        Ss   03:12   0:00 -bash\n",
      "root      3053  0.0  0.0  13060  2012 ?        Ss   03:12   0:00 /usr/lib/openssh/sftp-server\n",
      "root      3080  0.0  0.0   9920  1188 ?        Ss   03:12   0:00 /bin/bash -c  ps aux  EXIT_CODE=$? echo echo 1549595541.891784code: $EXIT_CODE echo 1549595541.891784pwd: $(pwd) echo 1549595541.891784env: $(cat -v <(env -0)) \n",
      "root      3081  0.0  0.0  34400  2876 ?        R    03:12   0:00 ps aux\n",
      "\n"
     ]
    }
   ],
   "source": [
    "ps aux"
   ]
  },
  {
   "cell_type": "code",
   "execution_count": 9,
   "metadata": {
    "ExecuteTime": {
     "end_time": "2019-02-08T03:12:22.026252Z",
     "start_time": "2019-02-08T03:12:21.971038Z"
    }
   },
   "outputs": [
    {
     "name": "stdout",
     "output_type": "stream",
     "text": [
      "[ssh] Successfully logged out.\n"
     ]
    }
   ],
   "source": [
    "%logout"
   ]
  }
 ],
 "metadata": {
  "kernelspec": {
   "display_name": "SSH",
   "language": "bash",
   "name": "ssh"
  },
  "language_info": {
   "codemirror_mode": "shell",
   "file_extension": ".sh",
   "mimetype": "text/x-sh",
   "name": "ssh"
  },
  "toc": {
   "base_numbering": 1,
   "nav_menu": {},
   "number_sections": true,
   "sideBar": true,
   "skip_h1_title": false,
   "title_cell": "Table of Contents",
   "title_sidebar": "Contents",
   "toc_cell": false,
   "toc_position": {},
   "toc_section_display": true,
   "toc_window_display": false
  }
 },
 "nbformat": 4,
 "nbformat_minor": 2
}
