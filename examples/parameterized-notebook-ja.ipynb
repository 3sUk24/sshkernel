{
 "cells": [
  {
   "cell_type": "markdown",
   "metadata": {},
   "source": [
    "# ノートブックのパラメタライズ\n",
    "\n",
    "SSH Kernelのノートブックで変数を宣言・参照する方法を説明します。<br><br><br>"
   ]
  },
  {
   "cell_type": "markdown",
   "metadata": {},
   "source": [
    "## 変数の宣言：`%param`\n",
    "\n",
    "`%param <変数名> <変数値>` 記法は、新しい変数を宣言します。\n",
    "\n",
    "* 注\n",
    "    * 〈変数名〉に使うことのできる文字は次の通り： A-Z a-z 0-9 _\n",
    "    * 〈変数値〉に使うことのできる文字は次の通り： A-Z a-z 0-9 - % , . / : = _ @ SPACE"
   ]
  },
  {
   "cell_type": "markdown",
   "metadata": {},
   "source": [
    "### 例"
   ]
  },
  {
   "cell_type": "code",
   "execution_count": 1,
   "metadata": {},
   "outputs": [],
   "source": [
    "%param HOST_A 127.0.0.1\n",
    "%param HOST_B test.example.com"
   ]
  },
  {
   "cell_type": "markdown",
   "metadata": {},
   "source": [
    "==> `HOST_A`, `HOST_B`の変数が宣言され、次に示す方法で参照できます。\n",
    "\n",
    "<br><br><br>"
   ]
  },
  {
   "cell_type": "markdown",
   "metadata": {},
   "source": [
    "## `%login`での変数展開\n",
    "\n",
    "上で宣言された変数は、`%login` 記法のなかで `{name}` と書くことで展開できます。"
   ]
  },
  {
   "cell_type": "markdown",
   "metadata": {},
   "source": [
    "### 例"
   ]
  },
  {
   "cell_type": "code",
   "execution_count": 2,
   "metadata": {},
   "outputs": [
    {
     "name": "stdout",
     "output_type": "stream",
     "text": [
      "[ssh] Login to {HOST_A}...\n",
      "[ssh] host=127.0.0.1 hostname=127.0.0.1 other_conf={}\n",
      "[ssh] Successfully logged in.\n"
     ]
    }
   ],
   "source": [
    "%login {HOST_A}"
   ]
  },
  {
   "cell_type": "markdown",
   "metadata": {},
   "source": [
    "==> `{HOST_A}` は `127.0.0.1` に置き換わります\n",
    "\n",
    "<br><br><br>"
   ]
  },
  {
   "cell_type": "markdown",
   "metadata": {},
   "source": [
    "## リモート環境で環境変数として参照する\n",
    "\n",
    "上で宣言された変数は、リモート環境で環境変数として参照することができます。\n",
    "\n",
    "* 注\n",
    "    * 宣言された変数は、環境変数のデフォルト値として、リモート環境へのログイン時に注入されます\n",
    "        * ログイン後に環境変数を再代入した場合（つまりコマンド`export HOST_B=xxx`と実行した場合）には、その変数はそのリモート環境でのみ上書きされます"
   ]
  },
  {
   "cell_type": "markdown",
   "metadata": {},
   "source": [
    "### 例"
   ]
  },
  {
   "cell_type": "code",
   "execution_count": 3,
   "metadata": {},
   "outputs": [
    {
     "name": "stdout",
     "output_type": "stream",
     "text": [
      "[ssh] Closing existing connection.\n",
      "[ssh] Login to {HOST_B}...\n",
      "[ssh] host=test.example.com hostname=localhost other_conf={'port': 22}\n",
      "[ssh] Successfully logged in.\n"
     ]
    }
   ],
   "source": [
    "%login {HOST_B}"
   ]
  },
  {
   "cell_type": "code",
   "execution_count": 4,
   "metadata": {},
   "outputs": [
    {
     "name": "stdout",
     "output_type": "stream",
     "text": [
      "[ssh] host = test.example.com, cwd = /home/masaru\n",
      "HOST_A=127.0.0.1\n",
      "HOST_B=test.example.com\n",
      "\n"
     ]
    }
   ],
   "source": [
    "env |sort | grep HOST_"
   ]
  },
  {
   "cell_type": "code",
   "execution_count": 5,
   "metadata": {},
   "outputs": [
    {
     "name": "stdout",
     "output_type": "stream",
     "text": [
      "[ssh] host = test.example.com, cwd = /home/masaru\n",
      "HOST_A is 127.0.0.1\n",
      "HOST_B is test.example.com\n",
      "\n"
     ]
    }
   ],
   "source": [
    "echo HOST_A is $HOST_A\n",
    "echo HOST_B is $HOST_B"
   ]
  },
  {
   "cell_type": "code",
   "execution_count": 6,
   "metadata": {},
   "outputs": [
    {
     "name": "stdout",
     "output_type": "stream",
     "text": [
      "[ssh] Successfully logged out.\n"
     ]
    }
   ],
   "source": [
    "%logout"
   ]
  },
  {
   "cell_type": "markdown",
   "metadata": {},
   "source": [
    "## Papermillとの統合\n",
    "\n",
    "[Papermill](https://github.com/nteract/papermill)に次のパッチを当てて用いると、SSH Kernel形式のノートブックをコマンドラインからパラメタライズ実行できます。\n",
    "\n",
    "* `%param` を含むセルをノートブックに挿入するためのパッチ：\n",
    "\n",
    "```diff\n",
    "--- papermill/translators.py.orig       2019-05-10 18:44:49.592111720 +0900\n",
    "+++ papermill/translators.py    2019-04-25 17:32:40.204800528 +0900\n",
    "@@ -200,12 +200,31 @@\n",
    "         return '# {}'.format(cmt_str).strip()\n",
    "\n",
    "\n",
    "+class SSHTranslator(Translator):\n",
    "+    @classmethod\n",
    "+    def translate_str(cls, val):\n",
    "+        \"\"\"Default behavior for translation\"\"\"\n",
    "+        return cls.translate_raw_str(val)\n",
    "+\n",
    "+    @classmethod\n",
    "+    def assign(cls, name, str_val):\n",
    "+        return '%param {} {}'.format(name, str_val)\n",
    "+\n",
    "+    @classmethod\n",
    "+    def codify(cls, parameters):\n",
    "+        content = ''\n",
    "+        for name, val in parameters.items():\n",
    "+            content += '{}\\n'.format(cls.assign(name, cls.translate(val)))\n",
    "+        return content\n",
    "+\n",
    "+\n",
    " # Instantiate a PapermillIO instance and register Handlers.\n",
    " papermill_translators = PapermillTranslators()\n",
    " papermill_translators.register(\"python\", PythonTranslator)\n",
    " papermill_translators.register(\"R\", RTranslator)\n",
    " papermill_translators.register(\"scala\", ScalaTranslator)\n",
    " papermill_translators.register(\"julia\", JuliaTranslator)\n",
    "+papermill_translators.register(\"ssh\", SSHTranslator)\n",
    "\n",
    "\n",
    " def translate_parameters(kernel_name, parameters):\n",
    "```"
   ]
  },
  {
   "cell_type": "markdown",
   "metadata": {},
   "source": [
    "### 実行例\n",
    "\n",
    "Papermillに上記パッチを当て、次のコマンドを実行します。\n",
    "\n",
    "```shell\n",
    "papermill -p HOST_A 20.20.20.20 input.ipynb output.ipynb\n",
    "```"
   ]
  }
 ],
 "metadata": {
  "kernelspec": {
   "display_name": "SSH",
   "language": "bash",
   "name": "ssh"
  },
  "language_info": {
   "codemirror_mode": "shell",
   "file_extension": ".sh",
   "mimetype": "text/x-sh",
   "name": "ssh"
  },
  "toc": {
   "base_numbering": 1,
   "nav_menu": {},
   "number_sections": true,
   "sideBar": true,
   "skip_h1_title": false,
   "title_cell": "Table of Contents",
   "title_sidebar": "Contents",
   "toc_cell": false,
   "toc_position": {},
   "toc_section_display": true,
   "toc_window_display": false
  }
 },
 "nbformat": 4,
 "nbformat_minor": 2
}
