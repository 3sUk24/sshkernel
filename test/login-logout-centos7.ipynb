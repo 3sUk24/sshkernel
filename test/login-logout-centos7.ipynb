{
 "cells": [
  {
   "cell_type": "markdown",
   "metadata": {},
   "source": [
    "# CentoOS7"
   ]
  },
  {
   "cell_type": "code",
   "execution_count": null,
   "metadata": {
    "ExecuteTime": {
     "end_time": "2018-12-13T11:38:08.836695Z",
     "start_time": "2018-12-13T11:38:08.619631Z"
    }
   },
   "outputs": [],
   "source": [
    "%login centos7"
   ]
  },
  {
   "cell_type": "code",
   "execution_count": null,
   "metadata": {
    "ExecuteTime": {
     "end_time": "2018-12-13T11:38:32.762303Z",
     "start_time": "2018-12-13T11:38:32.668820Z"
    }
   },
   "outputs": [],
   "source": [
    "id"
   ]
  },
  {
   "cell_type": "code",
   "execution_count": null,
   "metadata": {
    "ExecuteTime": {
     "end_time": "2018-12-13T11:38:36.369487Z",
     "start_time": "2018-12-13T11:38:36.310821Z"
    }
   },
   "outputs": [],
   "source": [
    "%logout"
   ]
  },
  {
   "cell_type": "code",
   "execution_count": null,
   "metadata": {},
   "outputs": [],
   "source": []
  },
  {
   "cell_type": "code",
   "execution_count": null,
   "metadata": {
    "ExecuteTime": {
     "end_time": "2018-12-13T11:39:59.696178Z",
     "start_time": "2018-12-13T11:39:59.684726Z"
    }
   },
   "outputs": [],
   "source": [
    "%%python\n",
    "import sys\n",
    "for c in ('D', 'o', 'n', 'e'):\n",
    "    sys.stdout.write(c)"
   ]
  }
 ],
 "metadata": {
  "kernelspec": {
   "display_name": "SSH",
   "language": "bash",
   "name": "ssh"
  },
  "language_info": {
   "codemirror_mode": "shell",
   "file_extension": ".sh",
   "mimetype": "text/x-sh",
   "name": "ssh"
  },
  "toc": {
   "base_numbering": 1,
   "nav_menu": {},
   "number_sections": true,
   "sideBar": true,
   "skip_h1_title": false,
   "title_cell": "Table of Contents",
   "title_sidebar": "Contents",
   "toc_cell": false,
   "toc_position": {},
   "toc_section_display": true,
   "toc_window_display": false
  }
 },
 "nbformat": 4,
 "nbformat_minor": 2
}
